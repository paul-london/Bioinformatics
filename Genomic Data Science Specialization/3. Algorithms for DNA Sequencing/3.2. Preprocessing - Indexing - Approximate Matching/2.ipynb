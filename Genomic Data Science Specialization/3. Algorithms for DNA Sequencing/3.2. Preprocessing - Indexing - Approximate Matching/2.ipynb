{
 "cells": [
  {
   "cell_type": "markdown",
   "id": "bac4ddf6",
   "metadata": {},
   "source": [
    "# 2. Preprocessing, Indexing, and Approximate Matching\n",
    "\n",
    "This notebook explores and compares several methods for finding DNA patterns in genomic sequences, with a focus on both **exact** and **approximate** matching. I will evaluate the performance of basic and advanced algorithms, then introduce indexing methods to accelerate search efficiency.\n",
    "\n",
    "### Goals:\n",
    "- Compare **Naive Pattern Matching** and the **Boyer-Moore Algorithm** using character and alignment counts.\n",
    "- Implement and test **K-mer Indexing** for fast exact matching.\n",
    "- Explore **Subsequence Indexing** (spaced seeds) for efficient approximate matching allowing up to 2 mismatches (no indels).\n",
    "\n",
    "I will apply these tools to a real genomic dataset, an exerpt of human chromosome 1 (`chr1.GRCh38.excerpt.fasta`), and analyze trade-offs between accuracy and performance.\n",
    "\n",
    "I used this notebook to answer the following questions:\n",
    "\n",
    "- Question 1: How many alignments does the naive exact matching algorithm try when matching the string \n",
    "`GGCGCGGTGGCTCACGCCTGTAATCCCAGCACTTTGGGAGGCCGAGG` (derived from human Alu sequences) to the excerpt of human chromosome 1?  (Don't consider reverse complements.)\n",
    "    - 799954\n",
    "\n",
    "- Question 2: How many character comparisons does the naive exact matching algorithm try when matching the string `GGCGCGGTGGCTCACGCCTGTAATCCCAGCACTTTGGGAGGCCGAGG` (derived from human Alu sequences) to the excerpt of human chromosome 1?  (Don't consider reverse complements.)\n",
    "    - 799952\n",
    "\n",
    "- Question 3: Question 3\n",
    "How many alignments does Boyer-Moore try when matching the string `GGCGCGGTGGCTCACGCCTGTAATCCCAGCACTTTGGGAGGCCGAGG` (derived from human Alu sequences) to the excerpt of human chromosome 1?  (Don't consider reverse complements.)\n",
    "    - 127974\n",
    "\n",
    "- Question 4: How many times does the string `GGCGCGGTGGCTCACGCCTGTAAT` which is derived from a human Alu sequence, occur with up to 2 substitutions in the excerpt of human chromosome 1?  (Don't consider reverse complements here.)\n",
    "    - 19\n",
    "\n",
    "- Question 5: How many total index hits are there when searching for occurrences of `GGCGCGGTGGCTCACGCCTGTAAT` with up to 2 substitutions in the excerpt of human chromosome 1?\n",
    "    - 90\n",
    "\n",
    "- Question 6: How many total index hits are there when searching for `GGCGCGGTGGCTCACGCCTGTAAT` with up to 2 substitutions in the excerpt of human chromosome 1?  (Again, don't consider reverse complements.)\n",
    "    - 79"
   ]
  },
  {
   "cell_type": "markdown",
   "id": "604073b6",
   "metadata": {},
   "source": [
    "## Import Libraries and Data"
   ]
  },
  {
   "cell_type": "code",
   "execution_count": 3,
   "id": "f7315219",
   "metadata": {},
   "outputs": [],
   "source": [
    "from bm_preproc import BoyerMoore\n",
    "from kmer_index import Index\n",
    "from subseq_index import SubseqIndex"
   ]
  },
  {
   "cell_type": "code",
   "execution_count": 4,
   "id": "6821ddb4",
   "metadata": {},
   "outputs": [],
   "source": [
    "# Read genome from FASTA file in folder (chr1.GRCh38.excerpt.fasta) and prepare pattern matching variables\n",
    "\n",
    "# Set filename\n",
    "filename = 'chr1.GRCh38.excerpt.fasta'\n",
    "\n",
    "def readGenome(filename):\n",
    "    genome = ''\n",
    "    with open(filename, 'r') as f:\n",
    "        for line in f:\n",
    "            # ignore header line with genome information\n",
    "            if not line[0] == '>':\n",
    "                genome += line.rstrip()\n",
    "    return genome\n",
    "\n",
    "# Set text 't' to the genome from file\n",
    "t = readGenome(filename)\n",
    "\n",
    "# Set pattern 'p' to desired string to match\n",
    "\n",
    "# Patterns used in this project:\n",
    "# 'ACTGTCCA' (used for Naive and Boyer-Moore)\n",
    "# 'CGTAGCAGA' (used for Naive and Boyer-Moore)\n",
    "# 'GGCGCGGTGGCTCACGCCTGTAAT' (length 24 for indexing methods)\n",
    "\n",
    "p = 'ACTGTCCA'\n",
    "\n",
    "# Preprocess pattern 'p' through Boyer-Moore preprocessing\n",
    "p_bm = BoyerMoore(p)"
   ]
  },
  {
   "cell_type": "markdown",
   "id": "769415f1",
   "metadata": {},
   "source": [
    "## Naive Pattern Matching"
   ]
  },
  {
   "cell_type": "code",
   "execution_count": 5,
   "id": "8d00ab76",
   "metadata": {},
   "outputs": [
    {
     "name": "stdout",
     "output_type": "stream",
     "text": [
      "Matches were found at indices: [65168, 69168, 133223, 278881, 350637, 381387, 413823, 454011, 460956, 487636, 572559, 589837, 669022, 725573, 763494, 798784]\n"
     ]
    }
   ],
   "source": [
    "# Naive Pattern Matching\n",
    "# Locate index position of matches of pattern p in text t\n",
    "\n",
    "def naive(p, t):\n",
    "    \"\"\"\n",
    "    Do Naive Pattern Matching\n",
    "    Arguments:\n",
    "    p=pattern\n",
    "    t=text\n",
    "    \"\"\"\n",
    "    occurrences = []\n",
    "    for i in range(len(t) - len(p) + 1):  # loop over alignments\n",
    "        match = True\n",
    "        for j in range(len(p)):  # loop over characters\n",
    "            if t[i+j] != p[j]:   # compare characters\n",
    "                match = False\n",
    "                break\n",
    "        if match:\n",
    "            occurrences.append(i)  # all chars matched; record\n",
    "    return occurrences\n",
    "\n",
    "# Locate matches of pattern 'p' within genome 't' using Naive Pattern Matching method\n",
    "# Assign output variables\n",
    "occurrences = naive(p, t)\n",
    "\n",
    "# Format results\n",
    "print(f'Matches were found at indices: {occurrences}')"
   ]
  },
  {
   "cell_type": "code",
   "execution_count": 4,
   "id": "32d03338",
   "metadata": {},
   "outputs": [
    {
     "name": "stdout",
     "output_type": "stream",
     "text": [
      "Matches were found at indices: [56922, 262042, 364263, 657496, 717706]\n",
      "Number of character comparisons performed: 799972\n",
      "Number of alignments tried: 799977\n"
     ]
    }
   ],
   "source": [
    "# Naive Pattern Matching with Counts\n",
    "# Locate index position of matches of pattern p in text t\n",
    "\n",
    "def naive_with_counts(p, t):\n",
    "    \"\"\"\n",
    "    Do Naive Pattern Matching and count number of character comparisons performed and number of alignments tried.\n",
    "    Arguments:\n",
    "    p=pattern\n",
    "    t=text\n",
    "    \"\"\"\n",
    "    occurrences = []\n",
    "    char_count = 0\n",
    "    align_count = 0\n",
    "    for i in range(len(t) - len(p) + 1):  # loop over alignments\n",
    "        match = True\n",
    "        align_count += 1\n",
    "        for j in range(len(p)):  # loop over characters\n",
    "            if t[i+j] != p[j]:   # compare characters\n",
    "                match = False\n",
    "                char_count += 1\n",
    "                break\n",
    "        if match:\n",
    "            occurrences.append(i)  # all chars matched; record\n",
    "    return occurrences, char_count, align_count\n",
    "\n",
    "# Locate matches of pattern 'p' within genome 't' using Naive Pattern Matching method with counts.\n",
    "# Assign output variables\n",
    "occurrences, char_count, align_count = naive_with_counts(p, t)\n",
    "\n",
    "# Format results\n",
    "print(f'Matches were found at indices: {occurrences}')\n",
    "print(f'Number of character comparisons performed: {char_count}')\n",
    "print(f'Number of alignments tried: {align_count}')"
   ]
  },
  {
   "cell_type": "markdown",
   "id": "2956f741",
   "metadata": {},
   "source": [
    "## Boyer-Moore"
   ]
  },
  {
   "cell_type": "code",
   "execution_count": 5,
   "id": "32f7cde5",
   "metadata": {},
   "outputs": [
    {
     "name": "stdout",
     "output_type": "stream",
     "text": [
      "Matches were found at indices: [56922, 262042, 364263, 657496, 717706]\n"
     ]
    }
   ],
   "source": [
    "# Boyer-Moore\n",
    "\n",
    "def boyer_moore(p, p_bm, t):\n",
    "    \"\"\" \n",
    "    Do Boyer-Moore matching. \n",
    "    Arguments:\n",
    "    p=pattern\n",
    "    t=text\n",
    "    p_bm=BoyerMoore object for p\n",
    "    \"\"\"\n",
    "    i = 0\n",
    "    occurrences = []\n",
    "    while i < len(t) - len(p) + 1:\n",
    "        shift = 1\n",
    "        mismatched = False\n",
    "        for j in range(len(p)-1, -1, -1):\n",
    "            if p[j] != t[i+j]:\n",
    "                skip_bc = p_bm.bad_character_rule(j, t[i+j])\n",
    "                skip_gs = p_bm.good_suffix_rule(j)\n",
    "                shift = max(shift, skip_bc, skip_gs)\n",
    "                mismatched = True\n",
    "                break\n",
    "        if not mismatched:\n",
    "            occurrences.append(i)\n",
    "            skip_gs = p_bm.match_skip()\n",
    "            shift = max(shift, skip_gs)\n",
    "        i += shift\n",
    "    return occurrences\n",
    "\n",
    "# Locate matches of pattern 'p' within genome 't' using Boyer-Moore method\n",
    "# Assign output variables\n",
    "occurrences = boyer_moore(p, p_bm, t)\n",
    "\n",
    "# Format results\n",
    "print(f'Matches were found at indices: {occurrences}')"
   ]
  },
  {
   "cell_type": "code",
   "execution_count": 6,
   "id": "996e918c",
   "metadata": {},
   "outputs": [
    {
     "name": "stdout",
     "output_type": "stream",
     "text": [
      "Matches were found at indices: [56922, 262042, 364263, 657496, 717706]\n",
      "Number of character comparisons performed: 196873\n",
      "Number of alignments tried: 126203\n"
     ]
    }
   ],
   "source": [
    "# Boyer-Moore\n",
    "\n",
    "def boyer_moore_with_counts(p, p_bm, t):\n",
    "    \"\"\" \n",
    "    Do Boyer-Moore matching and count number of character comparisons performed and number of alignments tried.\n",
    "    Arguments:\n",
    "    p=pattern\n",
    "    t=text\n",
    "    p_bm=BoyerMoore object for p\n",
    "    \"\"\"\n",
    "    i = 0\n",
    "    occurrences = []\n",
    "    char_count = 0\n",
    "    align_count = 0\n",
    "    while i < len(t) - len(p) + 1:\n",
    "        shift = 1\n",
    "        align_count += 1\n",
    "        mismatched = False\n",
    "        for j in range(len(p)-1, -1, -1):\n",
    "            char_count += 1\n",
    "            if p[j] != t[i+j]:\n",
    "                skip_bc = p_bm.bad_character_rule(j, t[i+j])\n",
    "                skip_gs = p_bm.good_suffix_rule(j)\n",
    "                shift = max(shift, skip_bc, skip_gs)\n",
    "                mismatched = True\n",
    "                break\n",
    "        if not mismatched:\n",
    "            occurrences.append(i)\n",
    "            skip_gs = p_bm.match_skip()\n",
    "            shift = max(shift, skip_gs)\n",
    "        i += shift\n",
    "    return occurrences, char_count, align_count\n",
    "\n",
    "# Locate matches of pattern 'p' within genome 't' using Boyer-Moore method with counts\n",
    "boyer_moore(p, p_bm, t)\n",
    "\n",
    "# Assign output variables\n",
    "occurrences, char_count, align_count = boyer_moore_with_counts(p, p_bm, t)\n",
    "\n",
    "# Format results\n",
    "print(f'Matches were found at indices: {occurrences}')\n",
    "print(f'Number of character comparisons performed: {char_count}')\n",
    "print(f'Number of alignments tried: {align_count}')"
   ]
  },
  {
   "cell_type": "markdown",
   "id": "f72f9776",
   "metadata": {},
   "source": [
    "## Comparison of Naive Pattern Matching and Boyer-Moore Algorithms\n",
    "\n",
    "### p = 'ACTGTCCA'\n",
    "\n",
    "|   Algorithm   |  Number of Matches | Character Comparisons   |   Alignments Attempted   |\n",
    "|:-----------:|:------------:|:------------:|:------------:|\n",
    "|   Naive Pattern Matching   | 16 | 799991   |   799992   |\n",
    "|   Boyer-Moore   | 16 | 295455    |   196637   |\n",
    "\n",
    "### p = 'CGTAGCAGA'\n",
    "\n",
    "|   Algorithm   |  Number of Matches | Character Comparisons   |   Alignments Attempted   |\n",
    "|:-----------:|:------------:|:------------:|:------------:|\n",
    "|   Naive Pattern Matching   | 1 |  799977    |   799993   |\n",
    "|   Boyer-Moore   | 1 |  283785    |   190295   |\n",
    "\n",
    "### Reduction of Work Performed by Boyer-Moore versus Naive Pattern Matching\n",
    "\n",
    "|   Pattern  |  Character Comparisons | Alignments Attempted |\n",
    "|:-----------:|:------------:|:------------:|\n",
    "|   `p = 'ACTGTCCA'`  | 63.1% | 75.4% |\n",
    "|   `p = 'CGTAGCAGA'`  | 64.5% | 76.2% |"
   ]
  },
  {
   "cell_type": "markdown",
   "id": "109962a4",
   "metadata": {},
   "source": [
    "## *K*-mer Indexing with 2 Mismatches Allowed"
   ]
  },
  {
   "cell_type": "code",
   "execution_count": 6,
   "id": "91868144",
   "metadata": {},
   "outputs": [
    {
     "ename": "AssertionError",
     "evalue": "Pattern must be length 24",
     "output_type": "error",
     "traceback": [
      "\u001b[1;31m---------------------------------------------------------------------------\u001b[0m",
      "\u001b[1;31mAssertionError\u001b[0m                            Traceback (most recent call last)",
      "Cell \u001b[1;32mIn[6], line 39\u001b[0m\n\u001b[0;32m     36\u001b[0m index \u001b[38;5;241m=\u001b[39m Index(t, \u001b[38;5;241m8\u001b[39m)\n\u001b[0;32m     38\u001b[0m \u001b[38;5;66;03m# Run the function\u001b[39;00m\n\u001b[1;32m---> 39\u001b[0m matches, total_hits \u001b[38;5;241m=\u001b[39m approximate_match_2mm(p, t, index)\n\u001b[0;32m     41\u001b[0m \u001b[38;5;66;03m# Print results\u001b[39;00m\n\u001b[0;32m     42\u001b[0m \u001b[38;5;28mprint\u001b[39m(\u001b[38;5;124mf\u001b[39m\u001b[38;5;124m'\u001b[39m\u001b[38;5;124mMatches were found at indices: \u001b[39m\u001b[38;5;132;01m{\u001b[39;00mmatches\u001b[38;5;132;01m}\u001b[39;00m\u001b[38;5;124m'\u001b[39m)\n",
      "Cell \u001b[1;32mIn[6], line 15\u001b[0m, in \u001b[0;36mapproximate_match_2mm\u001b[1;34m(p, t, index)\u001b[0m\n\u001b[0;32m      2\u001b[0m \u001b[38;5;28;01mdef\u001b[39;00m\u001b[38;5;250m \u001b[39m\u001b[38;5;21mapproximate_match_2mm\u001b[39m(p, t, index):\n\u001b[0;32m      3\u001b[0m \u001b[38;5;250m    \u001b[39m\u001b[38;5;124;03m\"\"\"\u001b[39;00m\n\u001b[0;32m      4\u001b[0m \u001b[38;5;124;03m    Find approximate occurrences of pattern p in text t with up to 2 mismatches\u001b[39;00m\n\u001b[0;32m      5\u001b[0m \u001b[38;5;124;03m    using a k-mer index (assumes k=8).\u001b[39;00m\n\u001b[1;32m   (...)\u001b[0m\n\u001b[0;32m     13\u001b[0m \u001b[38;5;124;03m        list: Sorted list of match starting positions with ≤2 mismatches\u001b[39;00m\n\u001b[0;32m     14\u001b[0m \u001b[38;5;124;03m    \"\"\"\u001b[39;00m\n\u001b[1;32m---> 15\u001b[0m     \u001b[38;5;28;01massert\u001b[39;00m \u001b[38;5;28mlen\u001b[39m(p) \u001b[38;5;241m==\u001b[39m \u001b[38;5;241m24\u001b[39m, \u001b[38;5;124m\"\u001b[39m\u001b[38;5;124mPattern must be length 24\u001b[39m\u001b[38;5;124m\"\u001b[39m\n\u001b[0;32m     16\u001b[0m     k \u001b[38;5;241m=\u001b[39m \u001b[38;5;241m8\u001b[39m  \u001b[38;5;66;03m# k-mer length used to build the index\u001b[39;00m\n\u001b[0;32m     17\u001b[0m     matches \u001b[38;5;241m=\u001b[39m \u001b[38;5;28mset\u001b[39m()\n",
      "\u001b[1;31mAssertionError\u001b[0m: Pattern must be length 24"
     ]
    }
   ],
   "source": [
    "# Implementation of pigeonhole principle using a k-mer index of genome and allowing for 2 mismatches\n",
    "def approximate_match_2mm(p, t, index):\n",
    "    \"\"\"\n",
    "    Find approximate occurrences of pattern p in text t with up to 2 mismatches\n",
    "    using a k-mer index (assumes k=8).\n",
    "    \n",
    "    Args:\n",
    "        p (str): Length-24 pattern\n",
    "        t (str): Genome text\n",
    "        index (Index): Index object supporting .query(kmer)\n",
    "    \n",
    "    Returns:\n",
    "        list: Sorted list of match starting positions with ≤2 mismatches\n",
    "    \"\"\"\n",
    "    assert len(p) == 24, \"Pattern must be length 24\"\n",
    "    k = 8  # k-mer length used to build the index\n",
    "    matches = set()\n",
    "    total_hits = 0\n",
    "\n",
    "    for i in range(3):  # split pattern into 3 overlapping 8-mers\n",
    "        kmer = p[i * k:(i + 1) * k]\n",
    "        hits = index.query(kmer)\n",
    "        total_hits += len(hits)  # Count the number of hits for this 8-mer\n",
    "        for pos in hits:\n",
    "            start = pos - i * k\n",
    "            if start < 0 or start + len(p) > len(t):\n",
    "                continue  # skip out-of-bound matches\n",
    "            window = t[start:start + len(p)]\n",
    "            mismatches = sum(1 for a, b in zip(p, window) if a != b)\n",
    "            if mismatches <= 2:\n",
    "                matches.add(start)\n",
    "\n",
    "    return sorted(matches), total_hits\n",
    "\n",
    "# Create index of genome with 8-mers (k=8)\n",
    "index = Index(t, 8)\n",
    "\n",
    "# Run the function\n",
    "matches, total_hits = approximate_match_2mm(p, t, index)\n",
    "\n",
    "# Print results\n",
    "print(f'Matches were found at indices: {matches}')\n",
    "print(f'Number of index hits: {total_hits}')"
   ]
  },
  {
   "cell_type": "markdown",
   "id": "3c1a36ce",
   "metadata": {},
   "source": [
    "## Subsequence Indexing with 2 Mismatches Allowed"
   ]
  },
  {
   "cell_type": "code",
   "execution_count": 7,
   "id": "fcc482cd",
   "metadata": {},
   "outputs": [
    {
     "ename": "AssertionError",
     "evalue": "Pattern must be length 24",
     "output_type": "error",
     "traceback": [
      "\u001b[1;31m---------------------------------------------------------------------------\u001b[0m",
      "\u001b[1;31mAssertionError\u001b[0m                            Traceback (most recent call last)",
      "Cell \u001b[1;32mIn[7], line 33\u001b[0m\n\u001b[0;32m     31\u001b[0m \u001b[38;5;66;03m# Create subsequence index with k=8 (length of subsequence) and ival=3 (spacing of characters) and run the function\u001b[39;00m\n\u001b[0;32m     32\u001b[0m subseq_index \u001b[38;5;241m=\u001b[39m SubseqIndex(t, \u001b[38;5;241m8\u001b[39m, \u001b[38;5;241m3\u001b[39m)\n\u001b[1;32m---> 33\u001b[0m matches, index_hits \u001b[38;5;241m=\u001b[39m approximate_match_subseq(p, t, subseq_index)\n\u001b[0;32m     35\u001b[0m \u001b[38;5;66;03m# Print results\u001b[39;00m\n\u001b[0;32m     36\u001b[0m \u001b[38;5;28mprint\u001b[39m(\u001b[38;5;124mf\u001b[39m\u001b[38;5;124m'\u001b[39m\u001b[38;5;124mMatches were found at indices: \u001b[39m\u001b[38;5;132;01m{\u001b[39;00mmatches\u001b[38;5;132;01m}\u001b[39;00m\u001b[38;5;124m'\u001b[39m)\n",
      "Cell \u001b[1;32mIn[7], line 3\u001b[0m, in \u001b[0;36mapproximate_match_subseq\u001b[1;34m(p, t, subseq_index)\u001b[0m\n\u001b[0;32m      2\u001b[0m \u001b[38;5;28;01mdef\u001b[39;00m\u001b[38;5;250m \u001b[39m\u001b[38;5;21mapproximate_match_subseq\u001b[39m(p, t, subseq_index):\n\u001b[1;32m----> 3\u001b[0m     \u001b[38;5;28;01massert\u001b[39;00m \u001b[38;5;28mlen\u001b[39m(p) \u001b[38;5;241m==\u001b[39m \u001b[38;5;241m24\u001b[39m, \u001b[38;5;124m\"\u001b[39m\u001b[38;5;124mPattern must be length 24\u001b[39m\u001b[38;5;124m\"\u001b[39m\n\u001b[0;32m      5\u001b[0m     k \u001b[38;5;241m=\u001b[39m subseq_index\u001b[38;5;241m.\u001b[39mk\n\u001b[0;32m      6\u001b[0m     ival \u001b[38;5;241m=\u001b[39m subseq_index\u001b[38;5;241m.\u001b[39mival\n",
      "\u001b[1;31mAssertionError\u001b[0m: Pattern must be length 24"
     ]
    }
   ],
   "source": [
    "# Implementation of pigeonhole principle using a subsequence index of genome and allowing for 2 mismatches\n",
    "def approximate_match_subseq(p, t, subseq_index):\n",
    "    assert len(p) == 24, \"Pattern must be length 24\"\n",
    "    \n",
    "    k = subseq_index.k\n",
    "    ival = subseq_index.ival\n",
    "    span = 1 + ival * (k - 1)\n",
    "\n",
    "    matches = set()\n",
    "    index_hits = 0\n",
    "\n",
    "    for offset in range(ival):\n",
    "        if offset + span > len(p):\n",
    "            continue\n",
    "\n",
    "        pattern_substring = p[offset : offset + span]\n",
    "        hits = subseq_index.query(pattern_substring)\n",
    "        index_hits += len(hits)\n",
    "\n",
    "        for hit in hits:\n",
    "            start = hit - offset\n",
    "            if start < 0 or start + len(p) > len(t):\n",
    "                continue\n",
    "            window = t[start : start + len(p)]\n",
    "            mismatches = sum(1 for a, b in zip(p, window) if a != b)\n",
    "            if mismatches <= 2:\n",
    "                matches.add(start)\n",
    "\n",
    "    return sorted(matches), index_hits\n",
    "\n",
    "# Create subsequence index with k=8 (length of subsequence) and ival=3 (spacing of characters) and run the function\n",
    "subseq_index = SubseqIndex(t, 8, 3)\n",
    "matches, index_hits = approximate_match_subseq(p, t, subseq_index)\n",
    "\n",
    "# Print results\n",
    "print(f'Matches were found at indices: {matches}')\n",
    "print(f'Number of index hits: {total_hits}')"
   ]
  },
  {
   "cell_type": "code",
   "execution_count": null,
   "id": "065d5999",
   "metadata": {},
   "outputs": [],
   "source": []
  }
 ],
 "metadata": {
  "kernelspec": {
   "display_name": "base",
   "language": "python",
   "name": "python3"
  },
  "language_info": {
   "codemirror_mode": {
    "name": "ipython",
    "version": 3
   },
   "file_extension": ".py",
   "mimetype": "text/x-python",
   "name": "python",
   "nbconvert_exporter": "python",
   "pygments_lexer": "ipython3",
   "version": "3.12.3"
  }
 },
 "nbformat": 4,
 "nbformat_minor": 5
}
