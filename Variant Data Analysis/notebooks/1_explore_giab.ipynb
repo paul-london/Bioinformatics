{
 "cells": [
  {
   "cell_type": "markdown",
   "id": "a46b2148",
   "metadata": {},
   "source": [
    "# Exploration of GIAB\n",
    "\n",
    "## Import Libraries"
   ]
  },
  {
   "cell_type": "code",
   "execution_count": 8,
   "id": "28670241",
   "metadata": {},
   "outputs": [
    {
     "ename": "ModuleNotFoundError",
     "evalue": "No module named 'cyvcf2'",
     "output_type": "error",
     "traceback": [
      "\u001b[31m---------------------------------------------------------------------------\u001b[39m",
      "\u001b[31mModuleNotFoundError\u001b[39m                       Traceback (most recent call last)",
      "\u001b[36mCell\u001b[39m\u001b[36m \u001b[39m\u001b[32mIn[8]\u001b[39m\u001b[32m, line 2\u001b[39m\n\u001b[32m      1\u001b[39m \u001b[38;5;66;03m# For reading VCF files\u001b[39;00m\n\u001b[32m----> \u001b[39m\u001b[32m2\u001b[39m \u001b[38;5;28;01mfrom\u001b[39;00m\u001b[38;5;250m \u001b[39m\u001b[34;01mcyvcf2\u001b[39;00m\u001b[38;5;250m \u001b[39m\u001b[38;5;28;01mimport\u001b[39;00m VCF\n\u001b[32m      4\u001b[39m \u001b[38;5;66;03m# For data handling\u001b[39;00m\n\u001b[32m      5\u001b[39m \u001b[38;5;28;01mimport\u001b[39;00m\u001b[38;5;250m \u001b[39m\u001b[34;01mpandas\u001b[39;00m\u001b[38;5;250m \u001b[39m\u001b[38;5;28;01mas\u001b[39;00m\u001b[38;5;250m \u001b[39m\u001b[34;01mpd\u001b[39;00m\n",
      "\u001b[31mModuleNotFoundError\u001b[39m: No module named 'cyvcf2'"
     ]
    }
   ],
   "source": [
    "# For reading VCF files\n",
    "from cyvcf2 import VCF\n",
    "\n",
    "# For data handling\n",
    "import pandas as pd\n",
    "\n",
    "# For plotting\n",
    "import matplotlib.pyplot as plt\n",
    "\n",
    "# Make plots appear inline\n",
    "%matplotlib inline"
   ]
  },
  {
   "cell_type": "markdown",
   "id": "ddc04513",
   "metadata": {},
   "source": [
    "## Import VCF File"
   ]
  },
  {
   "cell_type": "code",
   "execution_count": null,
   "id": "772f1205",
   "metadata": {},
   "outputs": [],
   "source": [
    "# Make sure it's bgzipped and tabixed\n",
    "# Specify file location\n",
    "vcf_file = r\"C:\\Users\\palon\\Desktop\\GitHub Repository\\Bioinformatics\\Variant Data Analysis\\data\\giab\\HG002_GRCh38_1_22_v4.2.1_benchmark.vcf.gz\"  \n",
    "\n",
    "vcf = VCF(vcf_file)\n",
    "\n",
    "# Print first 5 variants\n",
    "for i, variant in enumerate(vcf):\n",
    "    if i >= 5:\n",
    "        break\n",
    "    print(variant)"
   ]
  },
  {
   "cell_type": "markdown",
   "id": "96b78ce1",
   "metadata": {},
   "source": []
  }
 ],
 "metadata": {
  "kernelspec": {
   "display_name": "vcf-env",
   "language": "python",
   "name": "python3"
  },
  "language_info": {
   "codemirror_mode": {
    "name": "ipython",
    "version": 3
   },
   "file_extension": ".py",
   "mimetype": "text/x-python",
   "name": "python",
   "nbconvert_exporter": "python",
   "pygments_lexer": "ipython3",
   "version": "3.13.5"
  }
 },
 "nbformat": 4,
 "nbformat_minor": 5
}
